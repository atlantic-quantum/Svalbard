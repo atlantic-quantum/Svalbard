{
 "cells": [
  {
   "cell_type": "markdown",
   "metadata": {},
   "source": [
    "# Using Data Server Helper Functions\n",
    "\n",
    "This notebook demonstrates basic usage of the data server helper functions provided in Svalbard, they are mostly lightweight wrappers around pyMongo.\n",
    "\n",
    "For constructing more advanced queries please refer to [MongoDB's official documentation](https://www.mongodb.com/docs/manual/tutorial/query-documents/), [Offical cheat sheet](https://www.mongodb.com/developer/products/mongodb/cheat-sheet/#crud), \n",
    "\n"
   ]
  },
  {
   "cell_type": "markdown",
   "metadata": {},
   "source": [
    "## Setup"
   ]
  },
  {
   "cell_type": "code",
   "execution_count": null,
   "metadata": {},
   "outputs": [],
   "source": [
    "from svalbard.utility import data_server_helper_functions as ds_helper\n",
    "\n",
    "\"\"\"\n",
    "if using aq_measurements can use this import\n",
    "\n",
    "from aq_measurements.setup import DATA_CONFIG_PATH\n",
    "\n",
    "universal alternative is to use this import\n",
    "\"\"\"\n",
    "import os\n",
    "from pathlib import Path\n",
    "\n",
    "DATA_CONFIG_PATH = Path(os.path.expanduser(f\"~/.aq_config/data_server.json\"))\n",
    "\n",
    "\n",
    "# method for printing documents in a cursor\n",
    "import pymongo\n",
    "\n",
    "\n",
    "def print_cursor(cursor, limit=10):\n",
    "    for i, document in enumerate(cursor):\n",
    "        print(document)\n",
    "        if i + 1 >= limit:\n",
    "            break"
   ]
  },
  {
   "cell_type": "markdown",
   "metadata": {},
   "source": [
    "## Get number of docuements\n",
    "\n",
    "### total number of documents"
   ]
  },
  {
   "cell_type": "code",
   "execution_count": null,
   "metadata": {},
   "outputs": [],
   "source": [
    "ds_helper.get_number_of_documents(DATA_CONFIG_PATH)"
   ]
  },
  {
   "cell_type": "markdown",
   "metadata": {},
   "source": [
    "### Number of documents with name 'rabi'\n",
    "\n",
    "Here we use filter by the `name` field in the `MetaData`.\n",
    "\n",
    "The `\"$regex\": \"rabi\"` query command is used to filter the name by the word `\"rabi\"`\n",
    "\n",
    "The `\"$options\": \"i\"` query command is used to make the regex filter case insensitive. \n",
    "\n"
   ]
  },
  {
   "cell_type": "code",
   "execution_count": null,
   "metadata": {},
   "outputs": [],
   "source": [
    "ds_helper.get_number_of_documents(\n",
    "    DATA_CONFIG_PATH, {\"name\": {\"$regex\": \"rabi\", \"$options\": \"i\"}}\n",
    ")"
   ]
  },
  {
   "cell_type": "markdown",
   "metadata": {},
   "source": [
    "In general the queries are constructed in the format\n",
    "\n",
    "```\n",
    "{\n",
    "    \"field.to.query\" : {\"$query_command\": \"filter_paramter\", ...}, \n",
    "    \"another.field\" {\"$another_command\": \"another_paramter\", ...},\n",
    "    ...\n",
    "}\n",
    "```"
   ]
  },
  {
   "cell_type": "markdown",
   "metadata": {},
   "source": [
    "## Getting Documents\n",
    "\n",
    "the `get_many_documents` function returns a `pymongo.cursor.Cursor` object that has to be iterated over to get multiple documents.\n",
    "\n",
    "*Note*: Here we use a \"projection\" to limit what document fields are returned for the query, projections will be covered below when discussing retrieving single documents."
   ]
  },
  {
   "cell_type": "code",
   "execution_count": null,
   "metadata": {},
   "outputs": [],
   "source": [
    "import datetime\n",
    "\n",
    "date_start = datetime.datetime(\n",
    "    2024, 7, 30, 0, 0, 0\n",
    ").isoformat()\n",
    "date_end = datetime.datetime(2024, 7, 30, 4, 10, 0).isoformat()\n",
    "docs = ds_helper.get_many_documents(\n",
    "    DATA_CONFIG_PATH,\n",
    "    {\n",
    "        \"name\": {\"$regex\": \"t1\"},  # use regex to match partial string\n",
    "        \"date\": {\n",
    "            \"$gte\": date_start,\n",
    "            \"$lt\": date_end,\n",
    "        },  # use $gte and $lt to match a range (here date range)\n",
    "        \"station\": \"Atlantis - 1\",  # match exact string, can also use regex here \n",
    "    },\n",
    "    {\n",
    "        \"_id\": 1,\n",
    "        \"name\": 1,\n",
    "        \"data_path\": 1,\n",
    "        \"date\": 1,\n",
    "    },  # projection to only return these fields\n",
    ")\n",
    "type(docs)"
   ]
  },
  {
   "cell_type": "code",
   "execution_count": null,
   "metadata": {},
   "outputs": [],
   "source": [
    "\n",
    "date_start = datetime.datetime(2024, 7, 30, 0, 0, 0).isoformat()\n",
    "date_end = datetime.datetime(2024, 7, 30, 4, 10, 0).isoformat()\n",
    "\n",
    "\n",
    "atlantis_measurements = ds_helper.get_number_of_documents(\n",
    "    DATA_CONFIG_PATH, {\n",
    "        \"name\": {\"$regex\": \"t1\"},  # use regex to match partial string\n",
    "        \"date\": {\n",
    "            \"$gte\": date_start,\n",
    "            \"$lt\": date_end,\n",
    "        },  # use $gte and $lt to match a range (here date range)\n",
    "        \"station\": \"Atlantis - 1\",  # match exact string\n",
    "    }\n",
    ")\n",
    "bermuda_measurements = ds_helper.get_number_of_documents(\n",
    "    DATA_CONFIG_PATH, {\n",
    "        \"name\": {\"$regex\": \"t1\"},  # use regex to match partial string\n",
    "        \"date\": {\n",
    "            \"$gte\": date_start,\n",
    "            \"$lt\": date_end,\n",
    "        },  # use $gte and $lt to match a range (here date range)\n",
    "        \"station\": \"Bermuda - 2\",  # match exact string\n",
    "    }\n",
    ")\n",
    "print(\"Atlantis - 1\", atlantis_measurements)\n",
    "print(\"Bermuda - 2\", bermuda_measurements)"
   ]
  },
  {
   "cell_type": "markdown",
   "metadata": {},
   "source": [
    "by iterating over the cursor we can access the documents"
   ]
  },
  {
   "cell_type": "code",
   "execution_count": null,
   "metadata": {},
   "outputs": [],
   "source": [
    "for i, doc in enumerate(docs):\n",
    "    print(i, doc)\n",
    "    if i + 1 >= 3:\n",
    "        break"
   ]
  },
  {
   "cell_type": "markdown",
   "metadata": {},
   "source": [
    "The cursor is exhausted by iterating over it, i.e. running the `print_cursor` function on the same cursor yields different documents"
   ]
  },
  {
   "cell_type": "code",
   "execution_count": null,
   "metadata": {},
   "outputs": [],
   "source": [
    "print_cursor(docs, limit = 3)"
   ]
  },
  {
   "cell_type": "markdown",
   "metadata": {},
   "source": [
    "Once all the documents have been read out of the cursor iterating over it returns nothing"
   ]
  },
  {
   "cell_type": "code",
   "execution_count": null,
   "metadata": {},
   "outputs": [],
   "source": [
    "for doc in docs:\n",
    "    pass\n",
    "\n",
    "print_cursor(docs)"
   ]
  },
  {
   "cell_type": "markdown",
   "metadata": {},
   "source": [
    "# Getting a single document\n",
    "\n",
    "The `get_document` function is used to get a single document \"ObjectID\" string.\n",
    "\n",
    "A \"projection\" is used to filter what fields are returned for the document."
   ]
  },
  {
   "cell_type": "code",
   "execution_count": null,
   "metadata": {},
   "outputs": [],
   "source": [
    "ds_helper.get_document(\n",
    "    DATA_CONFIG_PATH,\n",
    "    \"YOUR_OBJECT_ID\",\n",
    "    {\"_id\": 1, \"name\": 1, \"data_path\": 1, \"date\": 1, \"station\": 1},\n",
    ")"
   ]
  },
  {
   "cell_type": "markdown",
   "metadata": {},
   "source": [
    "The `get_name_and_date` function has a built in projection to get just name and date\n",
    "\n",
    "The `get_name_and_data_path` function has a built in projection to get just name and data_path"
   ]
  },
  {
   "cell_type": "code",
   "execution_count": null,
   "metadata": {},
   "outputs": [],
   "source": [
    "print(ds_helper.get_name_and_date(DATA_CONFIG_PATH, \"YOUR_OBJECT_ID\"))\n",
    "print(ds_helper.get_name_and_data_path(DATA_CONFIG_PATH, \"YOUR_OBJECT_ID\"))"
   ]
  },
  {
   "cell_type": "markdown",
   "metadata": {},
   "source": [
    "\"Projections\" are either entirely inclusive or entirely exclusive, trying to mix inclusions and exclusions in a projection raises an error."
   ]
  },
  {
   "cell_type": "code",
   "execution_count": null,
   "metadata": {},
   "outputs": [],
   "source": [
    "ds_helper.get_document(\n",
    "    DATA_CONFIG_PATH, \"YOUR_OBJECT_ID\", {\"instruments\": 0, \"compiler_data\": 0}\n",
    ")"
   ]
  },
  {
   "cell_type": "markdown",
   "metadata": {},
   "source": [
    "The `get_and_exclude_large_fields` function exclude large fields such as `instruments` and `compiler_data` from the returned document."
   ]
  },
  {
   "cell_type": "code",
   "execution_count": null,
   "metadata": {},
   "outputs": [],
   "source": [
    "ds_helper.get_and_exclude_large_fields(DATA_CONFIG_PATH, \"YOUR_OBJECT_ID\")"
   ]
  },
  {
   "cell_type": "markdown",
   "metadata": {},
   "source": [
    "If you need access many fields of a document it is probably best to convert it to metadata"
   ]
  },
  {
   "cell_type": "code",
   "execution_count": null,
   "metadata": {},
   "outputs": [],
   "source": [
    "from svalbard.data_model.data_file import MetaData\n",
    "\n",
    "document = ds_helper.get_document(\n",
    "    DATA_CONFIG_PATH, \"YOUR_OBJECT_ID\", {\"_id\": 0}\n",
    ")\n",
    "metadata = MetaData(**document)\n",
    "\n",
    "metadata.name"
   ]
  },
  {
   "cell_type": "markdown",
   "metadata": {},
   "source": [
    "# Get Data\n",
    "\n",
    "The `get_data_group` function can be used get a zarr array of the data belonging to the document."
   ]
  },
  {
   "cell_type": "code",
   "execution_count": null,
   "metadata": {},
   "outputs": [],
   "source": [
    "zarr_array = ds_helper.get_data_group(DATA_CONFIG_PATH, \"YOUR_OBJECT_ID\")"
   ]
  },
  {
   "cell_type": "code",
   "execution_count": null,
   "metadata": {},
   "outputs": [],
   "source": [
    "for key in zarr_array:\n",
    "    print(key)"
   ]
  },
  {
   "cell_type": "code",
   "execution_count": null,
   "metadata": {},
   "outputs": [],
   "source": [
    "import matplotlib.pyplot as plt\n",
    "\n",
    "plt.plot(zarr_array[\"Time\"][:], zarr_array[\"average_population\"][:])\n",
    "plt.xlabel(\"Time (s)\")\n",
    "plt.ylabel(\"Population\")"
   ]
  },
  {
   "cell_type": "markdown",
   "metadata": {},
   "source": [
    "# The entire document\n",
    "\n",
    "Finally, this is the raw output of the entire document without using projections"
   ]
  },
  {
   "cell_type": "code",
   "execution_count": null,
   "metadata": {},
   "outputs": [],
   "source": [
    "ds_helper.get_document(DATA_CONFIG_PATH, \"YOUR_OBJECT_ID\")"
   ]
  },
  {
   "cell_type": "code",
   "execution_count": null,
   "metadata": {},
   "outputs": [],
   "source": []
  }
 ],
 "metadata": {
  "kernelspec": {
   "display_name": "Python 3",
   "language": "python",
   "name": "python3"
  },
  "language_info": {
   "codemirror_mode": {
    "name": "ipython",
    "version": 3
   },
   "file_extension": ".py",
   "mimetype": "text/x-python",
   "name": "python",
   "nbconvert_exporter": "python",
   "pygments_lexer": "ipython3",
   "version": "3.11.9"
  }
 },
 "nbformat": 4,
 "nbformat_minor": 2
}
