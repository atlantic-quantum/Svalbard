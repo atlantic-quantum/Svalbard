{
 "cells": [
  {
   "cell_type": "code",
   "execution_count": 1,
   "metadata": {},
   "outputs": [],
   "source": [
    "from svalbard.utility.data_server_helper_functions import get_many_documents\n",
    "import datetime\n",
    "\n",
    "from svalbard.data_server.frontend.frontend_v1 import FrontendV1Config\n",
    "\n",
    "from svalbard.data_router import DATA_CONFIG_PATH\n",
    "import json\n",
    "from pathlib import Path\n",
    "# Load the data config file\n",
    "config_json = json.loads(Path(DATA_CONFIG_PATH).read_text())\n",
    "config = FrontendV1Config(**config_json)\n",
    "\n",
    "metadata_config = config.metadata_backend\n"
   ]
  },
  {
   "cell_type": "code",
   "execution_count": 2,
   "metadata": {},
   "outputs": [],
   "source": [
    "date_start = datetime.datetime(2023, 11, 1).isoformat() # datetimes have to be converted to isoformat for querying\n",
    "date_end = datetime.datetime(2023, 11, 5).isoformat()\n",
    "docs = get_many_documents(\n",
    "    metadata_config, \n",
    "    {\n",
    "        \"name\": {\"$regex\": \"T1\"}, # use regex to match partial string\n",
    "        \"date\": {\"$gte\": date_start, \"$lt\": date_end} # use $gte and $lt to match a range (here date range)\n",
    "    }, \n",
    "    {\"_id\": 1, \"name\": 1, \"data_path\": 1, \"date\": 1}, # projection to only return these fields\n",
    "\n",
    ")"
   ]
  },
  {
   "cell_type": "code",
   "execution_count": null,
   "metadata": {},
   "outputs": [],
   "source": [
    "n = 0\n",
    "for doc in docs:\n",
    "    n += 1\n",
    "    if n > 10:\n",
    "        break\n",
    "    print(n, doc['_id'])"
   ]
  },
  {
   "cell_type": "code",
   "execution_count": null,
   "metadata": {},
   "outputs": [],
   "source": []
  }
 ],
 "metadata": {
  "kernelspec": {
   "display_name": "Python 3",
   "language": "python",
   "name": "python3"
  },
  "language_info": {
   "codemirror_mode": {
    "name": "ipython",
    "version": 3
   },
   "file_extension": ".py",
   "mimetype": "text/x-python",
   "name": "python",
   "nbconvert_exporter": "python",
   "pygments_lexer": "ipython3",
   "version": "3.11.6"
  }
 },
 "nbformat": 4,
 "nbformat_minor": 2
}
